{
 "cells": [
  {
   "cell_type": "code",
   "execution_count": 6,
   "id": "4b6a2208",
   "metadata": {},
   "outputs": [
    {
     "data": {
      "text/plain": [
       "[{'assistant_id': 'fe096781-5601-53d2-b2f6-0d3403f7e9ca',\n",
       "  'graph_id': 'agent',\n",
       "  'config': {},\n",
       "  'context': {},\n",
       "  'metadata': {'created_by': 'system'},\n",
       "  'name': 'agent',\n",
       "  'created_at': '2025-09-20T20:14:05.446370+00:00',\n",
       "  'updated_at': '2025-09-20T20:14:05.446370+00:00',\n",
       "  'version': 1,\n",
       "  'description': None}]"
      ]
     },
     "execution_count": 6,
     "metadata": {},
     "output_type": "execute_result"
    }
   ],
   "source": [
    "from langgraph_sdk import get_client\n",
    "\n",
    "URL = \"http://127.0.0.1:2024\"\n",
    "client = get_client(url=URL)\n",
    "\n",
    "assistants = await client.assistants.search()\n",
    "assistants"
   ]
  },
  {
   "cell_type": "code",
   "execution_count": 7,
   "id": "26435038",
   "metadata": {},
   "outputs": [
    {
     "name": "stdout",
     "output_type": "stream",
     "text": [
      "{'run_id': '019968c8-f9be-7177-bec4-6b0a4f272714', 'attempt': 1}\n",
      "{'origin': 'BKK', 'destination': 'CNX', 'departure_date': '2025-09-22', 'return_date': '2025-09-23', 'is_valid_date': None, 'validation_message': None, 'flight_options': [], 'hotel_options': [], 'flight_data': None, 'hotel_data': None, 'itinerary': None}\n",
      "{'origin': 'BKK', 'destination': 'CNX', 'departure_date': '2025-09-22', 'return_date': '2025-09-23', 'is_valid_date': None, 'validation_message': None, 'flight_options': [], 'hotel_options': [], 'flight_data': None, 'hotel_data': None, 'itinerary': None}\n",
      "{'origin': 'BKK', 'destination': 'CNX', 'departure_date': '2025-09-22', 'return_date': '2025-09-23', 'is_valid_date': True, 'validation_message': 'Dates are valid.', 'flight_options': [], 'hotel_options': [], 'flight_data': None, 'hotel_data': None, 'itinerary': None}\n",
      "{'origin': 'BKK', 'destination': 'CNX', 'departure_date': '2025-09-22', 'return_date': '2025-09-23', 'is_valid_date': True, 'validation_message': 'Dates are valid.', 'flight_options': [{'airline': 'Thai Vietjet Air', 'price': 2769, 'duration': 85, 'departure_time': '2025-09-22 19:00', 'arrival_time': '2025-09-22 20:25', 'stops': 0, 'travel_class': 'Economy'}, {'airline': 'Thai AirAsia', 'price': 3570, 'duration': 80, 'departure_time': '2025-09-22 10:45', 'arrival_time': '2025-09-22 12:05', 'stops': 0, 'travel_class': 'Economy'}, {'airline': 'Bangkok Airways', 'price': 4590, 'duration': 80, 'departure_time': '2025-09-22 09:55', 'arrival_time': '2025-09-22 11:15', 'stops': 0, 'travel_class': 'Economy'}], 'hotel_options': [{'name': 'Collection O Bupamontra Chiangmai', 'price': 'THB\\xa0285', 'rating': 4, 'location': [{'name': 'Wat Phra Singh Woramahawihan', 'transportations': [{'type': 'Taxi', 'duration': '9 min'}]}, {'name': 'Old Chiangmai Cultural Center', 'transportations': [{'type': 'Walking', 'duration': '6 min'}]}, {'name': 'Chiang Mai International Airport', 'transportations': [{'type': 'Taxi', 'duration': '10 min'}, {'type': 'Public transport', 'duration': '43 min'}]}, {'name': 'Euang Kam Sai Northern Thai Cuisine', 'transportations': [{'type': 'Walking', 'duration': '8 min'}]}], 'amenities': [], 'link': 'https://www.oyorooms.com/249759/'}, {'name': '84 gallery hostel', 'price': 'THB\\xa0324', 'rating': 4.8, 'location': [{'name': 'วัดศรีสุพรรณ(พระอุโบสถเงิน)', 'transportations': [{'type': 'Walking', 'duration': '9 min'}]}, {'name': 'Nantaram Road', 'transportations': [{'type': 'Walking', 'duration': '2 min'}]}, {'name': 'Chiang Mai International Airport', 'transportations': [{'type': 'Taxi', 'duration': '10 min'}, {'type': 'Public transport', 'duration': '45 min'}]}, {'name': \"Lucky's Café & Restaurant\", 'transportations': [{'type': 'Walking', 'duration': '8 min'}]}], 'amenities': ['Free Wi-Fi', 'Air conditioning', 'Full-service laundry', 'Kid-friendly'], 'link': 'https://m.facebook.com/84gallery/'}, {'name': 'ดวงเดือนอพาร์ตเม้นท์', 'price': 'THB\\xa0390', 'rating': 4.7, 'location': [{'name': 'Watchediluang Varaviharn', 'transportations': [{'type': 'Taxi', 'duration': '10 min'}]}, {'name': 'Central Chiangmai Airport', 'transportations': [{'type': 'Walking', 'duration': '7 min'}]}, {'name': 'Chiang Mai International Airport', 'transportations': [{'type': 'Taxi', 'duration': '8 min'}, {'type': 'Public transport', 'duration': '40 min'}]}, {'name': 'Parc Thai Eatery ป้าก', 'transportations': [{'type': 'Walking', 'duration': '7 min'}]}], 'amenities': [], 'link': 'N/A'}, {'name': 'C Room Extra (Mai Samakkhi 15) by Choktawee (ซ.ใหม่สามัคคี)', 'price': 'THB\\xa0435', 'rating': 4.6, 'location': [{'name': 'Wat Phra Singh Woramahawihan', 'transportations': [{'type': 'Taxi', 'duration': '10 min'}]}, {'name': 'Chiang Mai International Airport', 'transportations': [{'type': 'Taxi', 'duration': '11 min'}, {'type': 'Public transport', 'duration': '58 min'}]}, {'name': 'Som Restaurant', 'transportations': [{'type': 'Walking', 'duration': '3 min'}]}], 'amenities': [], 'link': 'N/A'}, {'name': 'PJ Apartment', 'price': 'THB\\xa0420', 'rating': 4.2, 'location': [{'name': 'Chiang Mai International Airport', 'transportations': [{'type': 'Taxi', 'duration': '8 min'}, {'type': 'Public transport', 'duration': '1 hr'}]}, {'name': 'NAM CHYIM - Kachin Kitchen In Chiangmai', 'transportations': [{'type': 'Walking', 'duration': '3 min'}]}], 'amenities': [], 'link': 'http://www.renthub.in.th/%E0%B8%9E%E0%B8%B5%E0%B9%80%E0%B8%88-%E0%B8%AD%E0%B8%9E%E0%B8%B2%E0%B8%A3%E0%B9%8C%E0%B8%97%E0%B9%80%E0%B8%A1%E0%B9%89%E0%B8%99%E0%B8%97%E0%B9%8C-pj-apartment'}], 'flight_data': None, 'hotel_data': None, 'itinerary': None}\n",
      "None\n",
      "None\n",
      "{'origin': 'BKK', 'destination': 'CNX', 'departure_date': '2025-09-22', 'return_date': '2025-09-23', 'is_valid_date': True, 'validation_message': 'Dates are valid.', 'flight_options': [{'airline': 'Thai Vietjet Air', 'price': 2769, 'duration': 85, 'departure_time': '2025-09-22 19:00', 'arrival_time': '2025-09-22 20:25', 'stops': 0, 'travel_class': 'Economy'}, {'airline': 'Thai AirAsia', 'price': 3570, 'duration': 80, 'departure_time': '2025-09-22 10:45', 'arrival_time': '2025-09-22 12:05', 'stops': 0, 'travel_class': 'Economy'}, {'airline': 'Bangkok Airways', 'price': 4590, 'duration': 80, 'departure_time': '2025-09-22 09:55', 'arrival_time': '2025-09-22 11:15', 'stops': 0, 'travel_class': 'Economy'}], 'hotel_options': [{'name': 'Collection O Bupamontra Chiangmai', 'price': 'THB\\xa0285', 'rating': 4, 'location': [{'name': 'Wat Phra Singh Woramahawihan', 'transportations': [{'type': 'Taxi', 'duration': '9 min'}]}, {'name': 'Old Chiangmai Cultural Center', 'transportations': [{'type': 'Walking', 'duration': '6 min'}]}, {'name': 'Chiang Mai International Airport', 'transportations': [{'type': 'Taxi', 'duration': '10 min'}, {'type': 'Public transport', 'duration': '43 min'}]}, {'name': 'Euang Kam Sai Northern Thai Cuisine', 'transportations': [{'type': 'Walking', 'duration': '8 min'}]}], 'amenities': [], 'link': 'https://www.oyorooms.com/249759/'}, {'name': '84 gallery hostel', 'price': 'THB\\xa0324', 'rating': 4.8, 'location': [{'name': 'วัดศรีสุพรรณ(พระอุโบสถเงิน)', 'transportations': [{'type': 'Walking', 'duration': '9 min'}]}, {'name': 'Nantaram Road', 'transportations': [{'type': 'Walking', 'duration': '2 min'}]}, {'name': 'Chiang Mai International Airport', 'transportations': [{'type': 'Taxi', 'duration': '10 min'}, {'type': 'Public transport', 'duration': '45 min'}]}, {'name': \"Lucky's Café & Restaurant\", 'transportations': [{'type': 'Walking', 'duration': '8 min'}]}], 'amenities': ['Free Wi-Fi', 'Air conditioning', 'Full-service laundry', 'Kid-friendly'], 'link': 'https://m.facebook.com/84gallery/'}, {'name': 'ดวงเดือนอพาร์ตเม้นท์', 'price': 'THB\\xa0390', 'rating': 4.7, 'location': [{'name': 'Watchediluang Varaviharn', 'transportations': [{'type': 'Taxi', 'duration': '10 min'}]}, {'name': 'Central Chiangmai Airport', 'transportations': [{'type': 'Walking', 'duration': '7 min'}]}, {'name': 'Chiang Mai International Airport', 'transportations': [{'type': 'Taxi', 'duration': '8 min'}, {'type': 'Public transport', 'duration': '40 min'}]}, {'name': 'Parc Thai Eatery ป้าก', 'transportations': [{'type': 'Walking', 'duration': '7 min'}]}], 'amenities': [], 'link': 'N/A'}, {'name': 'C Room Extra (Mai Samakkhi 15) by Choktawee (ซ.ใหม่สามัคคี)', 'price': 'THB\\xa0435', 'rating': 4.6, 'location': [{'name': 'Wat Phra Singh Woramahawihan', 'transportations': [{'type': 'Taxi', 'duration': '10 min'}]}, {'name': 'Chiang Mai International Airport', 'transportations': [{'type': 'Taxi', 'duration': '11 min'}, {'type': 'Public transport', 'duration': '58 min'}]}, {'name': 'Som Restaurant', 'transportations': [{'type': 'Walking', 'duration': '3 min'}]}], 'amenities': [], 'link': 'N/A'}, {'name': 'PJ Apartment', 'price': 'THB\\xa0420', 'rating': 4.2, 'location': [{'name': 'Chiang Mai International Airport', 'transportations': [{'type': 'Taxi', 'duration': '8 min'}, {'type': 'Public transport', 'duration': '1 hr'}]}, {'name': 'NAM CHYIM - Kachin Kitchen In Chiangmai', 'transportations': [{'type': 'Walking', 'duration': '3 min'}]}], 'amenities': [], 'link': 'http://www.renthub.in.th/%E0%B8%9E%E0%B8%B5%E0%B9%80%E0%B8%88-%E0%B8%AD%E0%B8%9E%E0%B8%B2%E0%B8%A3%E0%B9%8C%E0%B8%97%E0%B9%80%E0%B8%A1%E0%B9%89%E0%B8%99%E0%B8%97%E0%B9%8C-pj-apartment'}], 'flight_data': \"**Recommendation:**\\n\\nI recommend the flight operated by Thai Vietjet Air. \\n\\n**Reasoning for Recommendation:**\\n\\n- **Price:** The Thai Vietjet Air flight is the most affordable option among the three, priced at 2769. This is significantly cheaper than the Thai AirAsia flight which costs 3570, and the Bangkok Airways flight which is priced at 4590. Therefore, in terms of cost-effectiveness, the Thai Vietjet Air flight offers the best value.\\n\\n- **Duration:** The duration of the Thai Vietjet Air flight is 85 minutes, which is only slightly longer than the other two options, both of which have a duration of 80 minutes. This difference of 5 minutes is negligible and does not significantly impact the overall travel time.\\n\\n- **Stops:** All three flights are direct with no stops. However, considering the lower price of the Thai Vietjet Air flight, it becomes the preferable option.\\n\\n- **Travel Class:** All three flights offer Economy class. While there might be slight differences in the service quality among the airlines, without specific details about the amenities provided, it's reasonable to assume that the comfort level would be comparable across all three. Therefore, given its lower price, the Thai Vietjet Air flight is the recommended option.\", 'hotel_data': \"Based on the analysis of the provided hotel options, I recommend the '84 gallery hostel' as the best choice considering the factors of price, rating, location, and amenities.\\n\\n**Price:** Priced at THB 324, the '84 gallery hostel' is not the cheapest option, but it offers the best value for money when considering the other factors. It is slightly more expensive than the 'Collection O Bupamontra Chiangmai' (THB 285) but significantly cheaper than the 'C Room Extra (Mai Samakkhi 15) by Choktawee' (THB 435) and 'PJ Apartment' (THB 420).\\n\\n**Rating:** With a rating of 4.8, the '84 gallery hostel' has the highest rating among all the options. This suggests that previous guests have had a positive experience at this hotel, making it a reliable choice for a comfortable stay.\\n\\n**Location:** The '84 gallery hostel' is conveniently located within walking distance to attractions like 'วัดศรีสุพรรณ(พระอุโบสถเงิน)' and 'Nantaram Road'. It is also close to 'Lucky's Café & Restaurant', providing easy access to dining options. The hotel is a 10-minute taxi ride or a 45-minute public transport ride from the Chiang Mai International Airport, which is comparable to the other options.\\n\\n**Amenities:** Unlike some of the other options, the '84 gallery hostel' offers amenities such as free Wi-Fi, air conditioning, full-service laundry, and is kid-friendly. These amenities can significantly enhance the comfort and convenience of your stay, making it suitable for different types of travelers, including families.\\n\\nIn conclusion, the '84 gallery hostel' stands out as the best option due to its high rating, convenient location, and the range of amenities it offers, all at a reasonable price. This recommendation should help travelers make an informed decision based on multiple factors, not just one.\", 'itinerary': None}\n",
      "None\n",
      "None\n",
      "None\n",
      "None\n",
      "{'origin': 'BKK', 'destination': 'CNX', 'departure_date': '2025-09-22', 'return_date': '2025-09-23', 'is_valid_date': True, 'validation_message': 'Dates are valid.', 'flight_options': [{'airline': 'Thai Vietjet Air', 'price': 2769, 'duration': 85, 'departure_time': '2025-09-22 19:00', 'arrival_time': '2025-09-22 20:25', 'stops': 0, 'travel_class': 'Economy'}, {'airline': 'Thai AirAsia', 'price': 3570, 'duration': 80, 'departure_time': '2025-09-22 10:45', 'arrival_time': '2025-09-22 12:05', 'stops': 0, 'travel_class': 'Economy'}, {'airline': 'Bangkok Airways', 'price': 4590, 'duration': 80, 'departure_time': '2025-09-22 09:55', 'arrival_time': '2025-09-22 11:15', 'stops': 0, 'travel_class': 'Economy'}], 'hotel_options': [{'name': 'Collection O Bupamontra Chiangmai', 'price': 'THB\\xa0285', 'rating': 4, 'location': [{'name': 'Wat Phra Singh Woramahawihan', 'transportations': [{'type': 'Taxi', 'duration': '9 min'}]}, {'name': 'Old Chiangmai Cultural Center', 'transportations': [{'type': 'Walking', 'duration': '6 min'}]}, {'name': 'Chiang Mai International Airport', 'transportations': [{'type': 'Taxi', 'duration': '10 min'}, {'type': 'Public transport', 'duration': '43 min'}]}, {'name': 'Euang Kam Sai Northern Thai Cuisine', 'transportations': [{'type': 'Walking', 'duration': '8 min'}]}], 'amenities': [], 'link': 'https://www.oyorooms.com/249759/'}, {'name': '84 gallery hostel', 'price': 'THB\\xa0324', 'rating': 4.8, 'location': [{'name': 'วัดศรีสุพรรณ(พระอุโบสถเงิน)', 'transportations': [{'type': 'Walking', 'duration': '9 min'}]}, {'name': 'Nantaram Road', 'transportations': [{'type': 'Walking', 'duration': '2 min'}]}, {'name': 'Chiang Mai International Airport', 'transportations': [{'type': 'Taxi', 'duration': '10 min'}, {'type': 'Public transport', 'duration': '45 min'}]}, {'name': \"Lucky's Café & Restaurant\", 'transportations': [{'type': 'Walking', 'duration': '8 min'}]}], 'amenities': ['Free Wi-Fi', 'Air conditioning', 'Full-service laundry', 'Kid-friendly'], 'link': 'https://m.facebook.com/84gallery/'}, {'name': 'ดวงเดือนอพาร์ตเม้นท์', 'price': 'THB\\xa0390', 'rating': 4.7, 'location': [{'name': 'Watchediluang Varaviharn', 'transportations': [{'type': 'Taxi', 'duration': '10 min'}]}, {'name': 'Central Chiangmai Airport', 'transportations': [{'type': 'Walking', 'duration': '7 min'}]}, {'name': 'Chiang Mai International Airport', 'transportations': [{'type': 'Taxi', 'duration': '8 min'}, {'type': 'Public transport', 'duration': '40 min'}]}, {'name': 'Parc Thai Eatery ป้าก', 'transportations': [{'type': 'Walking', 'duration': '7 min'}]}], 'amenities': [], 'link': 'N/A'}, {'name': 'C Room Extra (Mai Samakkhi 15) by Choktawee (ซ.ใหม่สามัคคี)', 'price': 'THB\\xa0435', 'rating': 4.6, 'location': [{'name': 'Wat Phra Singh Woramahawihan', 'transportations': [{'type': 'Taxi', 'duration': '10 min'}]}, {'name': 'Chiang Mai International Airport', 'transportations': [{'type': 'Taxi', 'duration': '11 min'}, {'type': 'Public transport', 'duration': '58 min'}]}, {'name': 'Som Restaurant', 'transportations': [{'type': 'Walking', 'duration': '3 min'}]}], 'amenities': [], 'link': 'N/A'}, {'name': 'PJ Apartment', 'price': 'THB\\xa0420', 'rating': 4.2, 'location': [{'name': 'Chiang Mai International Airport', 'transportations': [{'type': 'Taxi', 'duration': '8 min'}, {'type': 'Public transport', 'duration': '1 hr'}]}, {'name': 'NAM CHYIM - Kachin Kitchen In Chiangmai', 'transportations': [{'type': 'Walking', 'duration': '3 min'}]}], 'amenities': [], 'link': 'http://www.renthub.in.th/%E0%B8%9E%E0%B8%B5%E0%B9%80%E0%B8%88-%E0%B8%AD%E0%B8%9E%E0%B8%B2%E0%B8%A3%E0%B9%8C%E0%B8%97%E0%B9%80%E0%B8%A1%E0%B9%89%E0%B8%99%E0%B8%97%E0%B9%8C-pj-apartment'}], 'flight_data': \"**Recommendation:**\\n\\nI recommend the flight operated by Thai Vietjet Air. \\n\\n**Reasoning for Recommendation:**\\n\\n- **Price:** The Thai Vietjet Air flight is the most affordable option among the three, priced at 2769. This is significantly cheaper than the Thai AirAsia flight which costs 3570, and the Bangkok Airways flight which is priced at 4590. Therefore, in terms of cost-effectiveness, the Thai Vietjet Air flight offers the best value.\\n\\n- **Duration:** The duration of the Thai Vietjet Air flight is 85 minutes, which is only slightly longer than the other two options, both of which have a duration of 80 minutes. This difference of 5 minutes is negligible and does not significantly impact the overall travel time.\\n\\n- **Stops:** All three flights are direct with no stops. However, considering the lower price of the Thai Vietjet Air flight, it becomes the preferable option.\\n\\n- **Travel Class:** All three flights offer Economy class. While there might be slight differences in the service quality among the airlines, without specific details about the amenities provided, it's reasonable to assume that the comfort level would be comparable across all three. Therefore, given its lower price, the Thai Vietjet Air flight is the recommended option.\", 'hotel_data': \"Based on the analysis of the provided hotel options, I recommend the '84 gallery hostel' as the best choice considering the factors of price, rating, location, and amenities.\\n\\n**Price:** Priced at THB 324, the '84 gallery hostel' is not the cheapest option, but it offers the best value for money when considering the other factors. It is slightly more expensive than the 'Collection O Bupamontra Chiangmai' (THB 285) but significantly cheaper than the 'C Room Extra (Mai Samakkhi 15) by Choktawee' (THB 435) and 'PJ Apartment' (THB 420).\\n\\n**Rating:** With a rating of 4.8, the '84 gallery hostel' has the highest rating among all the options. This suggests that previous guests have had a positive experience at this hotel, making it a reliable choice for a comfortable stay.\\n\\n**Location:** The '84 gallery hostel' is conveniently located within walking distance to attractions like 'วัดศรีสุพรรณ(พระอุโบสถเงิน)' and 'Nantaram Road'. It is also close to 'Lucky's Café & Restaurant', providing easy access to dining options. The hotel is a 10-minute taxi ride or a 45-minute public transport ride from the Chiang Mai International Airport, which is comparable to the other options.\\n\\n**Amenities:** Unlike some of the other options, the '84 gallery hostel' offers amenities such as free Wi-Fi, air conditioning, full-service laundry, and is kid-friendly. These amenities can significantly enhance the comfort and convenience of your stay, making it suitable for different types of travelers, including families.\\n\\nIn conclusion, the '84 gallery hostel' stands out as the best option due to its high rating, convenient location, and the range of amenities it offers, all at a reasonable price. This recommendation should help travelers make an informed decision based on multiple factors, not just one.\", 'itinerary': \"# 🌍 1-Day Itinerary for Chiang Mai, Thailand 🇹🇭\\n\\n## 🛬 Flight Arrival\\n- **Flight**: Thai Vietjet Air\\n- **Arrival Time**: 10:00 AM at Chiang Mai International Airport (CNX)\\n- **Estimated Cost**: 2769 THB\\n\\n## 🏨 Hotel Check-in\\n- **Hotel**: 84 gallery hostel\\n- **Check-in Time**: 11:00 AM\\n- **Estimated Cost**: 324 THB\\n\\n## 🗺️ Day 1: Exploring Chiang Mai\\n\\n### Morning Activities\\n- **10:30 AM**: Take a taxi from the airport to the hotel (Estimated cost: 150 THB)\\n- **11:00 AM**: Check-in at the hotel and freshen up\\n- **12:00 PM**: Visit Wat Sri Suphan (Silver Temple) (Estimated cost: Free)\\n- **1:00 PM**: Visit Nantaram Road for local shopping (Estimated cost: Depends on purchases)\\n\\n### 🍽️ Lunch\\n- **2:00 PM**: Lunch at Lucky's Café & Restaurant (Estimated cost: 200 THB)\\n\\n### Afternoon Activities\\n- **3:00 PM**: Visit the Chiang Mai City Arts & Cultural Centre (Estimated cost: 90 THB)\\n- **4:30 PM**: Explore the Old City Walls and Tha Phae Gate (Estimated cost: Free)\\n\\n### 🍽️ Dinner\\n- **6:00 PM**: Dinner at Dash Restaurant and Bar (Estimated cost: 300 THB)\\n\\n### Evening Activities\\n- **7:30 PM**: Visit the Chiang Mai Night Bazaar for shopping and local food (Estimated cost: Depends on purchases)\\n\\n## 🏨 Hotel Check-out\\n- **Check-out Time**: Before 11:00 AM on 2025-09-23\\n\\n## 🛫 Flight Departure\\n- **Flight**: Thai Vietjet Air\\n- **Departure Time**: 1:00 PM from Chiang Mai International Airport (CNX)\\n- **Estimated Cost**: 2769 THB\\n\\n## 🚕 Local Transportation\\n- Taxis and tuk-tuks are the most convenient way to get around Chiang Mai. The estimated cost for a day's worth of transportation is around 500 THB.\\n\\n## 💰 Estimated Daily Expenses\\n- **Flight**: 2769 THB\\n- **Hotel**: 324 THB\\n- **Meals**: 500 THB\\n- **Activities**: 90 THB\\n- **Transportation**: 500 THB\\n- **Shopping**: Variable\\n\\n## 💸 Total Estimated Cost\\n- **Total**: 6183 THB + Shopping\\n\\nPlease note that these are estimated costs and actual costs may vary. It's always a good idea to carry some extra cash for emergencies and unexpected expenses. Enjoy your trip to Chiang Mai! 🌏🛫🇹🇭\"}\n"
     ]
    }
   ],
   "source": [
    "from src.utils.state import ItineraryAgentState\n",
    "\n",
    "thread = await client.threads.create()\n",
    "\n",
    "input_state = ItineraryAgentState(\n",
    "        origin=\"BKK\",\n",
    "        destination=\"CNX\",\n",
    "        departure_date=\"2025-09-22\",\n",
    "        return_date=\"2025-09-23\"\n",
    "    )\n",
    "\n",
    "async for event in client.runs.stream(\n",
    "    thread_id=thread['thread_id'],\n",
    "    assistant_id=\"agent\",\n",
    "    input=input_state,\n",
    "    stream_mode=\"values\"\n",
    "):\n",
    "    print(event.data)"
   ]
  },
  {
   "cell_type": "code",
   "execution_count": 9,
   "id": "3d586fd4",
   "metadata": {},
   "outputs": [
    {
     "data": {
      "text/plain": [
       "dict_keys(['origin', 'destination', 'departure_date', 'return_date', 'is_valid_date', 'validation_message', 'flight_options', 'hotel_options', 'flight_data', 'hotel_data', 'itinerary'])"
      ]
     },
     "execution_count": 9,
     "metadata": {},
     "output_type": "execute_result"
    }
   ],
   "source": [
    "event.data.keys()"
   ]
  },
  {
   "cell_type": "code",
   "execution_count": 11,
   "id": "31fd918a",
   "metadata": {},
   "outputs": [
    {
     "data": {
      "text/plain": [
       "\"**Recommendation:**\\n\\nI recommend the flight operated by Thai Vietjet Air. \\n\\n**Reasoning for Recommendation:**\\n\\n- **Price:** The Thai Vietjet Air flight is the most affordable option among the three, priced at 2769. This is significantly cheaper than the Thai AirAsia flight which costs 3570, and the Bangkok Airways flight which is priced at 4590. Therefore, in terms of cost-effectiveness, the Thai Vietjet Air flight offers the best value.\\n\\n- **Duration:** The duration of the Thai Vietjet Air flight is 85 minutes, which is only slightly longer than the other two options, both of which have a duration of 80 minutes. This difference of 5 minutes is negligible and does not significantly impact the overall travel time.\\n\\n- **Stops:** All three flights are direct with no stops. However, considering the lower price of the Thai Vietjet Air flight, it becomes the preferable option.\\n\\n- **Travel Class:** All three flights offer Economy class. While there might be slight differences in the service quality among the airlines, without specific details about the amenities provided, it's reasonable to assume that the comfort level would be comparable across all three. Therefore, given its lower price, the Thai Vietjet Air flight is the recommended option.\""
      ]
     },
     "execution_count": 11,
     "metadata": {},
     "output_type": "execute_result"
    }
   ],
   "source": [
    "event.data['flight_data']"
   ]
  },
  {
   "cell_type": "code",
   "execution_count": 14,
   "id": "58002c0b",
   "metadata": {},
   "outputs": [
    {
     "data": {
      "text/plain": [
       "False"
      ]
     },
     "execution_count": 14,
     "metadata": {},
     "output_type": "execute_result"
    }
   ],
   "source": [
    "hasattr(event.data, 'flight_data')"
   ]
  },
  {
   "cell_type": "code",
   "execution_count": null,
   "id": "638254ad",
   "metadata": {},
   "outputs": [],
   "source": []
  }
 ],
 "metadata": {
  "kernelspec": {
   "display_name": "dev",
   "language": "python",
   "name": "python3"
  },
  "language_info": {
   "codemirror_mode": {
    "name": "ipython",
    "version": 3
   },
   "file_extension": ".py",
   "mimetype": "text/x-python",
   "name": "python",
   "nbconvert_exporter": "python",
   "pygments_lexer": "ipython3",
   "version": "3.12.11"
  }
 },
 "nbformat": 4,
 "nbformat_minor": 5
}
