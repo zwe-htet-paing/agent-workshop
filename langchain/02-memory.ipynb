{
 "cells": [
  {
   "cell_type": "markdown",
   "id": "514d2d0b",
   "metadata": {},
   "source": [
    "## Types of Memory in LangChain\n",
    "\n",
    "- Conversation Buffer Memory\n",
    "- Conversation Buffer Window Memory\n",
    "- Conversation Summary Memory\n",
    "- Conversaton Token Buffer Memory"
   ]
  },
  {
   "cell_type": "code",
   "execution_count": 1,
   "id": "04376ea1",
   "metadata": {},
   "outputs": [
    {
     "data": {
      "text/plain": [
       "True"
      ]
     },
     "execution_count": 1,
     "metadata": {},
     "output_type": "execute_result"
    }
   ],
   "source": [
    "import os\n",
    "from dotenv import load_dotenv\n",
    "\n",
    "load_dotenv()"
   ]
  },
  {
   "cell_type": "code",
   "execution_count": 6,
   "id": "bfa8027a",
   "metadata": {},
   "outputs": [],
   "source": [
    "import warnings\n",
    "\n",
    "warnings.filterwarnings(\"ignore\")"
   ]
  },
  {
   "cell_type": "markdown",
   "id": "c53ce080",
   "metadata": {},
   "source": [
    "#### Conversation Buffer Memory\n",
    "\n",
    "- Stores full chat history: Keeps all messages and injects them into every prompt, preserving complete context.\n",
    "\n",
    "- Best for short conversations: Easy to use for brief chats, but long conversations may exceed the model’s context limit."
   ]
  },
  {
   "cell_type": "code",
   "execution_count": 7,
   "id": "5cf3424a",
   "metadata": {},
   "outputs": [],
   "source": [
    "from langchain.memory import ConversationBufferMemory\n",
    "from langchain.chains import ConversationChain\n",
    "from langchain_openai import ChatOpenAI"
   ]
  },
  {
   "cell_type": "code",
   "execution_count": 14,
   "id": "0e1af614",
   "metadata": {},
   "outputs": [],
   "source": [
    "# Initialize LLM\n",
    "llm = ChatOpenAI(model=\"gpt-4o\", temperature=0)"
   ]
  },
  {
   "cell_type": "code",
   "execution_count": 15,
   "id": "b04e6c1d",
   "metadata": {},
   "outputs": [
    {
     "name": "stdout",
     "output_type": "stream",
     "text": [
      "\n",
      "\n",
      "\u001b[1m> Entering new ConversationChain chain...\u001b[0m\n",
      "Prompt after formatting:\n",
      "\u001b[32;1m\u001b[1;3mThe following is a friendly conversation between a human and an AI. The AI is talkative and provides lots of specific details from its context. If the AI does not know the answer to a question, it truthfully says it does not know.\n",
      "\n",
      "Current conversation:\n",
      "\n",
      "Human: Hello, my name is Oliver. I love playing football\n",
      "AI:\u001b[0m\n",
      "\n",
      "\u001b[1m> Finished chain.\u001b[0m\n",
      "Hello, Oliver! It's great to meet you. Football is such an exciting sport with a rich history. Whether you're playing on a local field or watching a big match, there's always something thrilling about the game. Do you play in a team, or do you enjoy casual games with friends?\n"
     ]
    }
   ],
   "source": [
    "# Initialize memory that keeps everythings\n",
    "memory = ConversationBufferMemory()\n",
    "\n",
    "# Initialize conversation chain\n",
    "conversation = ConversationChain(\n",
    "    llm=llm,\n",
    "    memory=memory,\n",
    "    verbose=True,\n",
    ")\n",
    "\n",
    "# Each interaction builds on the complete history\n",
    "response1 = conversation.predict(\n",
    "    input=\"Hello, my name is Oliver. I love playing football\"\n",
    ")\n",
    "print(response1)"
   ]
  },
  {
   "cell_type": "code",
   "execution_count": 12,
   "id": "2fc11938",
   "metadata": {},
   "outputs": [
    {
     "name": "stdout",
     "output_type": "stream",
     "text": [
      "\n",
      "\n",
      "\u001b[1m> Entering new ConversationChain chain...\u001b[0m\n",
      "Prompt after formatting:\n",
      "\u001b[32;1m\u001b[1;3mThe following is a friendly conversation between a human and an AI. The AI is talkative and provides lots of specific details from its context. If the AI does not know the answer to a question, it truthfully says it does not know.\n",
      "\n",
      "Current conversation:\n",
      "Human: Hello, my name is Oliver. I love playing football\n",
      "AI: Hello, Oliver! It's great to meet you. Football is such an exciting sport with a rich history. Whether you're playing on a local field or watching a big match, there's always something thrilling about the game. Do you play in a team, or do you enjoy casual games with friends?\n",
      "Human: What is my hobbies?\n",
      "AI: Based on what you've shared with me, one of your hobbies is playing football. It's a fantastic way to stay active, enjoy teamwork, and have fun. If you have other hobbies you'd like to share, feel free to let me know! I'm always interested in learning more about what people enjoy doing in their free time.\n",
      "Human: What is my hobbies?\n",
      "AI:\u001b[0m\n",
      "\n",
      "\u001b[1m> Finished chain.\u001b[0m\n",
      "From what you've told me so far, playing football is one of your hobbies. It's a great way to stay fit and enjoy some friendly competition. If you have other hobbies or interests, I'd love to hear about them! Whether it's reading, painting, hiking, or anything else, I'm here to chat about whatever you enjoy.\n"
     ]
    }
   ],
   "source": [
    "response2 = conversation.predict(\n",
    "    input=\"What is my hobbies?\"\n",
    ")\n",
    "print(response2)"
   ]
  },
  {
   "cell_type": "code",
   "execution_count": null,
   "id": "86762833",
   "metadata": {},
   "outputs": [],
   "source": []
  },
  {
   "cell_type": "markdown",
   "id": "405f97ce",
   "metadata": {},
   "source": [
    "#### Conversation Buffer Window Memory\n",
    "\n",
    "- Remembers only recent exchanges: Keeps the last k messages, prioritizing recent context over older history.\n",
    "\n",
    "- Best for relevance: Ideal for short, focused conversations (e.g., technical support), but older messages are forgotten."
   ]
  },
  {
   "cell_type": "code",
   "execution_count": 13,
   "id": "9159f423",
   "metadata": {},
   "outputs": [],
   "source": [
    "from langchain.memory import ConversationBufferWindowMemory"
   ]
  },
  {
   "cell_type": "code",
   "execution_count": 16,
   "id": "f643fcb2",
   "metadata": {},
   "outputs": [
    {
     "name": "stdout",
     "output_type": "stream",
     "text": [
      "\n",
      "\n",
      "\u001b[1m> Entering new ConversationChain chain...\u001b[0m\n",
      "Prompt after formatting:\n",
      "\u001b[32;1m\u001b[1;3mThe following is a friendly conversation between a human and an AI. The AI is talkative and provides lots of specific details from its context. If the AI does not know the answer to a question, it truthfully says it does not know.\n",
      "\n",
      "Current conversation:\n",
      "\n",
      "Human: My name is Oliver\n",
      "AI:\u001b[0m\n",
      "\n",
      "\u001b[1m> Finished chain.\u001b[0m\n",
      "\n",
      "\n",
      "\u001b[1m> Entering new ConversationChain chain...\u001b[0m\n",
      "Prompt after formatting:\n",
      "\u001b[32;1m\u001b[1;3mThe following is a friendly conversation between a human and an AI. The AI is talkative and provides lots of specific details from its context. If the AI does not know the answer to a question, it truthfully says it does not know.\n",
      "\n",
      "Current conversation:\n",
      "Human: My name is Oliver\n",
      "AI: Hello, Oliver! It's great to meet you. How can I assist you today?\n",
      "Human: I love playing football\n",
      "AI:\u001b[0m\n",
      "\n",
      "\u001b[1m> Finished chain.\u001b[0m\n",
      "\n",
      "\n",
      "\u001b[1m> Entering new ConversationChain chain...\u001b[0m\n",
      "Prompt after formatting:\n",
      "\u001b[32;1m\u001b[1;3mThe following is a friendly conversation between a human and an AI. The AI is talkative and provides lots of specific details from its context. If the AI does not know the answer to a question, it truthfully says it does not know.\n",
      "\n",
      "Current conversation:\n",
      "Human: My name is Oliver\n",
      "AI: Hello, Oliver! It's great to meet you. How can I assist you today?\n",
      "Human: I love playing football\n",
      "AI: That's awesome, Oliver! Football is such a dynamic and exciting sport. Whether you're playing as a striker, midfielder, defender, or goalkeeper, each position has its own unique challenges and thrills. Do you play in a local league or just for fun with friends? And do you have a favorite team or player that you follow?\n",
      "Human: I also enjoy travelling\n",
      "AI:\u001b[0m\n",
      "\n",
      "\u001b[1m> Finished chain.\u001b[0m\n",
      "\n",
      "\n",
      "\u001b[1m> Entering new ConversationChain chain...\u001b[0m\n",
      "Prompt after formatting:\n",
      "\u001b[32;1m\u001b[1;3mThe following is a friendly conversation between a human and an AI. The AI is talkative and provides lots of specific details from its context. If the AI does not know the answer to a question, it truthfully says it does not know.\n",
      "\n",
      "Current conversation:\n",
      "Human: I love playing football\n",
      "AI: That's awesome, Oliver! Football is such a dynamic and exciting sport. Whether you're playing as a striker, midfielder, defender, or goalkeeper, each position has its own unique challenges and thrills. Do you play in a local league or just for fun with friends? And do you have a favorite team or player that you follow?\n",
      "Human: I also enjoy travelling\n",
      "AI: That's wonderful, Oliver! Traveling can be such an enriching experience, offering new perspectives and adventures. Whether you're exploring bustling cities, relaxing on serene beaches, or hiking through breathtaking landscapes, there's always something new to discover. Do you have a favorite destination you've visited, or is there a place on your bucket list that you're eager to explore? And do you prefer traveling solo, with friends, or with family?\n",
      "Human: What do you remember about me?\n",
      "AI:\u001b[0m\n",
      "\n",
      "\u001b[1m> Finished chain.\u001b[0m\n",
      "Window Memory Buffer: Human: I also enjoy travelling\n",
      "AI: That's wonderful, Oliver! Traveling can be such an enriching experience, offering new perspectives and adventures. Whether you're exploring bustling cities, relaxing on serene beaches, or hiking through breathtaking landscapes, there's always something new to discover. Do you have a favorite destination you've visited, or is there a place on your bucket list that you're eager to explore? And do you prefer traveling solo, with friends, or with family?\n",
      "Human: What do you remember about me?\n",
      "AI: I remember that you love playing football and enjoy traveling. You seem to have a passion for both the excitement of sports and the adventure of exploring new places. You might have a favorite football team or player, and you probably have some memorable travel experiences or destinations you'd like to visit. If there's anything else you'd like to share or discuss, feel free to let me know!\n"
     ]
    }
   ],
   "source": [
    "memory = ConversationBufferWindowMemory(k=2)\n",
    "\n",
    "conversation = ConversationChain(\n",
    "    llm=llm,\n",
    "    memory=memory,\n",
    "    verbose=True,\n",
    ")\n",
    "\n",
    "response1 = conversation.predict(input=\"My name is Oliver\")\n",
    "response2 = conversation.predict(input=\"I love playing football\")\n",
    "response3 = conversation.predict(input=\"I also enjoy travelling\")\n",
    "response4 = conversation.predict(input=\"What do you remember about me?\")  # Only remembers last 2 exchanges\n",
    "\n",
    "print(\"Window Memory Buffer:\", memory.buffer)"
   ]
  },
  {
   "cell_type": "code",
   "execution_count": null,
   "id": "00f05513",
   "metadata": {},
   "outputs": [],
   "source": []
  },
  {
   "cell_type": "markdown",
   "id": "b312381e",
   "metadata": {},
   "source": [
    "####  Conversation Summary Memory\n",
    "\n",
    "- Summarizes past conversation: Uses an LLM to condense earlier messages instead of storing them all.\n",
    "\n",
    "- Best for long chats: Maintains context efficiently over time, though some details may be lost in the summary."
   ]
  },
  {
   "cell_type": "code",
   "execution_count": 17,
   "id": "efbceb87",
   "metadata": {},
   "outputs": [],
   "source": [
    "from langchain.memory import ConversationSummaryMemory"
   ]
  },
  {
   "cell_type": "code",
   "execution_count": 18,
   "id": "85aae081",
   "metadata": {},
   "outputs": [
    {
     "name": "stdout",
     "output_type": "stream",
     "text": [
      "\n",
      "\n",
      "\u001b[1m> Entering new ConversationChain chain...\u001b[0m\n",
      "Prompt after formatting:\n",
      "\u001b[32;1m\u001b[1;3mThe following is a friendly conversation between a human and an AI. The AI is talkative and provides lots of specific details from its context. If the AI does not know the answer to a question, it truthfully says it does not know.\n",
      "\n",
      "Current conversation:\n",
      "\n",
      "Human: My name is Oliver and I'm a software engineer\n",
      "AI:\u001b[0m\n",
      "\n",
      "\u001b[1m> Finished chain.\u001b[0m\n",
      "\n",
      "\n",
      "\u001b[1m> Entering new ConversationChain chain...\u001b[0m\n",
      "Prompt after formatting:\n",
      "\u001b[32;1m\u001b[1;3mThe following is a friendly conversation between a human and an AI. The AI is talkative and provides lots of specific details from its context. If the AI does not know the answer to a question, it truthfully says it does not know.\n",
      "\n",
      "Current conversation:\n",
      "Oliver introduces himself as a software engineer. The AI greets him and expresses interest in his work, noting that being a software engineer involves solving complex problems and creating innovative solutions. The AI asks Oliver about the projects he is working on and the programming languages he enjoys using.\n",
      "Human: I've been working on AI projects for 5 years\n",
      "AI:\u001b[0m\n",
      "\n",
      "\u001b[1m> Finished chain.\u001b[0m\n",
      "\n",
      "\n",
      "\u001b[1m> Entering new ConversationChain chain...\u001b[0m\n",
      "Prompt after formatting:\n",
      "\u001b[32;1m\u001b[1;3mThe following is a friendly conversation between a human and an AI. The AI is talkative and provides lots of specific details from its context. If the AI does not know the answer to a question, it truthfully says it does not know.\n",
      "\n",
      "Current conversation:\n",
      "Oliver introduces himself as a software engineer. The AI greets him and expresses interest in his work, noting that being a software engineer involves solving complex problems and creating innovative solutions. Oliver mentions he has been working on AI projects for 5 years, which the AI finds impressive given the rapid evolution of the field. The AI asks about the types of AI projects Oliver has been involved in, the areas or applications he finds most exciting or challenging, and his preferred programming languages and tools, noting Python's popularity in the AI community.\n",
      "Human: I love playing football and travelling in my free time\n",
      "AI:\u001b[0m\n",
      "\n",
      "\u001b[1m> Finished chain.\u001b[0m\n",
      "\n",
      "\n",
      "\u001b[1m> Entering new ConversationChain chain...\u001b[0m\n",
      "Prompt after formatting:\n",
      "\u001b[32;1m\u001b[1;3mThe following is a friendly conversation between a human and an AI. The AI is talkative and provides lots of specific details from its context. If the AI does not know the answer to a question, it truthfully says it does not know.\n",
      "\n",
      "Current conversation:\n",
      "Oliver introduces himself as a software engineer. The AI greets him and expresses interest in his work, noting that being a software engineer involves solving complex problems and creating innovative solutions. Oliver mentions he has been working on AI projects for 5 years, which the AI finds impressive given the rapid evolution of the field. The AI asks about the types of AI projects Oliver has been involved in, the areas or applications he finds most exciting or challenging, and his preferred programming languages and tools, noting Python's popularity in the AI community. Oliver also shares that he loves playing football and traveling in his free time. The AI responds enthusiastically, highlighting the benefits of football as a dynamic sport and a social activity, and expresses interest in Oliver's travel experiences, asking about his favorite destinations and future travel plans.\n",
      "Human: What do you know about my background?\n",
      "AI:\u001b[0m\n",
      "\n",
      "\u001b[1m> Finished chain.\u001b[0m\n",
      "Summary Memory: Oliver introduces himself as a software engineer. The AI greets him and expresses interest in his work, noting that being a software engineer involves solving complex problems and creating innovative solutions. Oliver mentions he has been working on AI projects for 5 years, which the AI finds impressive given the rapid evolution of the field. The AI asks about the types of AI projects Oliver has been involved in, the areas or applications he finds most exciting or challenging, and his preferred programming languages and tools, noting Python's popularity in the AI community. Oliver also shares that he loves playing football and traveling in his free time. The AI responds enthusiastically, highlighting the benefits of football as a dynamic sport and a social activity, and expresses interest in Oliver's travel experiences, asking about his favorite destinations and future travel plans. The AI summarizes Oliver's background, noting his focus on AI projects, his enjoyment of the challenges and innovations in AI development, and his love for football and travel. The AI expresses curiosity about specific AI projects Oliver is proud of, his favorite football team, and memorable travel destinations.\n"
     ]
    }
   ],
   "source": [
    "memory = ConversationSummaryMemory(llm=llm)\n",
    "\n",
    "conversation = ConversationChain(\n",
    "    llm=llm,\n",
    "    memory=memory,\n",
    "    verbose=True,\n",
    ")\n",
    "\n",
    "response1 = conversation.predict(input=\"My name is Oliver and I'm a software engineer\")\n",
    "response2 = conversation.predict(input=\"I've been working on AI projects for 5 years\")\n",
    "response3 = conversation.predict(input=\"I love playing football and travelling in my free time\")\n",
    "response4 = conversation.predict(input=\"What do you know about my background?\")\n",
    "print(\"Summary Memory:\", memory.buffer)"
   ]
  },
  {
   "cell_type": "code",
   "execution_count": null,
   "id": "2a9acae1",
   "metadata": {},
   "outputs": [],
   "source": []
  },
  {
   "cell_type": "markdown",
   "id": "ba50346b",
   "metadata": {},
   "source": [
    "#### Conversation Toaken Buffer Memory\n",
    "\n",
    "- Manages token limits: Keeps only as much recent conversation as fits within the model’s context window, trimming old messages automatically.\n",
    "\n",
    "- Preserves recency without summarization: Maintains the latest messages under the token limit, ensuring the model stays context-aware without losing important recent exchanges."
   ]
  },
  {
   "cell_type": "code",
   "execution_count": 19,
   "id": "edece9ef",
   "metadata": {},
   "outputs": [],
   "source": [
    "from langchain.memory import ConversationSummaryBufferMemory"
   ]
  },
  {
   "cell_type": "code",
   "execution_count": 20,
   "id": "b59aed37",
   "metadata": {},
   "outputs": [
    {
     "name": "stdout",
     "output_type": "stream",
     "text": [
      "\n",
      "\n",
      "\u001b[1m> Entering new ConversationChain chain...\u001b[0m\n",
      "Prompt after formatting:\n",
      "\u001b[32;1m\u001b[1;3mThe following is a friendly conversation between a human and an AI. The AI is talkative and provides lots of specific details from its context. If the AI does not know the answer to a question, it truthfully says it does not know.\n",
      "\n",
      "Current conversation:\n",
      "[]\n",
      "Human: My name is Oliver and I'm a software engineer\n",
      "AI:\u001b[0m\n",
      "\n",
      "\u001b[1m> Finished chain.\u001b[0m\n",
      "\n",
      "\n",
      "\u001b[1m> Entering new ConversationChain chain...\u001b[0m\n",
      "Prompt after formatting:\n",
      "\u001b[32;1m\u001b[1;3mThe following is a friendly conversation between a human and an AI. The AI is talkative and provides lots of specific details from its context. If the AI does not know the answer to a question, it truthfully says it does not know.\n",
      "\n",
      "Current conversation:\n",
      "[HumanMessage(content=\"My name is Oliver and I'm a software engineer\", additional_kwargs={}, response_metadata={}), AIMessage(content=\"Hello Oliver! It's great to meet you. Being a software engineer sounds fascinating. You must enjoy solving complex problems and creating innovative solutions. What kind of projects are you working on, or what programming languages do you prefer to use?\", additional_kwargs={}, response_metadata={})]\n",
      "Human: I've been working on AI projects for 5 years\n",
      "AI:\u001b[0m\n",
      "\n",
      "\u001b[1m> Finished chain.\u001b[0m\n",
      "\n",
      "\n",
      "\u001b[1m> Entering new ConversationChain chain...\u001b[0m\n",
      "Prompt after formatting:\n",
      "\u001b[32;1m\u001b[1;3mThe following is a friendly conversation between a human and an AI. The AI is talkative and provides lots of specific details from its context. If the AI does not know the answer to a question, it truthfully says it does not know.\n",
      "\n",
      "Current conversation:\n",
      "[SystemMessage(content='Oliver introduces himself as a software engineer. The AI greets Oliver and expresses interest in his work, noting that being a software engineer involves solving complex problems and creating innovative solutions. The AI asks Oliver about the projects he is working on and his preferred programming languages.', additional_kwargs={}, response_metadata={}), HumanMessage(content=\"I've been working on AI projects for 5 years\", additional_kwargs={}, response_metadata={}), AIMessage(content=\"That's impressive, Oliver! Five years in the AI field means you've likely seen a lot of exciting developments and changes. Are there any particular areas within AI that you specialize in, like natural language processing, computer vision, or reinforcement learning? Also, I'd love to hear about any projects you've worked on that you're particularly proud of.\", additional_kwargs={}, response_metadata={})]\n",
      "Human: I love playing football and travelling in my free time\n",
      "AI:\u001b[0m\n",
      "\n",
      "\u001b[1m> Finished chain.\u001b[0m\n",
      "\n",
      "\n",
      "\u001b[1m> Entering new ConversationChain chain...\u001b[0m\n",
      "Prompt after formatting:\n",
      "\u001b[32;1m\u001b[1;3mThe following is a friendly conversation between a human and an AI. The AI is talkative and provides lots of specific details from its context. If the AI does not know the answer to a question, it truthfully says it does not know.\n",
      "\n",
      "Current conversation:\n",
      "[SystemMessage(content=\"Oliver introduces himself as a software engineer. The AI greets Oliver and expresses interest in his work, noting that being a software engineer involves solving complex problems and creating innovative solutions. The AI asks Oliver about the projects he is working on and his preferred programming languages. Oliver mentions he has been working on AI projects for 5 years, which the AI finds impressive, noting that he has likely seen many exciting developments in the field. The AI inquires about Oliver's specialization within AI and any projects he is proud of. Oliver also shares that he loves playing football and traveling in his free time.\", additional_kwargs={}, response_metadata={}), AIMessage(content=\"That's great, Oliver! Football is such a dynamic and exciting sport, offering a fantastic way to stay active and enjoy some friendly competition. Do you play in a local league or just for fun with friends? As for traveling, it's such a wonderful way to explore new cultures and gain fresh perspectives. Do you have any favorite destinations you've visited, or is there a place on your travel bucket list that you're eager to explore next?\", additional_kwargs={}, response_metadata={})]\n",
      "Human: What do you know about my background?\n",
      "AI:\u001b[0m\n",
      "\n",
      "\u001b[1m> Finished chain.\u001b[0m\n",
      "Summary Buffer Memory: [SystemMessage(content='Oliver introduces himself as a software engineer, and the AI expresses interest in his work, noting that it involves solving complex problems and creating innovative solutions. Oliver has been working on AI projects for 5 years, which the AI finds impressive, and it inquires about his specialization and projects he is proud of. Oliver shares that he loves playing football and traveling in his free time. The AI comments on football being a dynamic sport and asks if Oliver plays in a local league or with friends. It also expresses interest in his travel experiences, asking about favorite destinations or future travel plans. Oliver asks what the AI knows about his background, and the AI summarizes his professional focus and personal interests, inviting him to share more about his experiences and projects.', additional_kwargs={}, response_metadata={})]\n"
     ]
    }
   ],
   "source": [
    "memory = ConversationSummaryBufferMemory(\n",
    "    llm=llm, \n",
    "    max_token_limit=100, #  When buffer exceeds this, start summarizing\n",
    "    return_messages=True\n",
    ")\n",
    "\n",
    "\n",
    "conversation = ConversationChain(\n",
    "    llm=llm,\n",
    "    memory=memory,\n",
    "    verbose=True,\n",
    ")\n",
    "\n",
    "response1 = conversation.predict(input=\"My name is Oliver and I'm a software engineer\")\n",
    "response2 = conversation.predict(input=\"I've been working on AI projects for 5 years\")\n",
    "response3 = conversation.predict(input=\"I love playing football and travelling in my free time\")\n",
    "response4 = conversation.predict(input=\"What do you know about my background?\")\n",
    "print(\"Summary Buffer Memory:\", memory.buffer\n",
    ")"
   ]
  },
  {
   "cell_type": "code",
   "execution_count": null,
   "id": "6b8beb56",
   "metadata": {},
   "outputs": [],
   "source": []
  },
  {
   "cell_type": "code",
   "execution_count": null,
   "id": "731038ab",
   "metadata": {},
   "outputs": [],
   "source": []
  }
 ],
 "metadata": {
  "kernelspec": {
   "display_name": "langchain",
   "language": "python",
   "name": "python3"
  },
  "language_info": {
   "codemirror_mode": {
    "name": "ipython",
    "version": 3
   },
   "file_extension": ".py",
   "mimetype": "text/x-python",
   "name": "python",
   "nbconvert_exporter": "python",
   "pygments_lexer": "ipython3",
   "version": "3.12.11"
  }
 },
 "nbformat": 4,
 "nbformat_minor": 5
}
